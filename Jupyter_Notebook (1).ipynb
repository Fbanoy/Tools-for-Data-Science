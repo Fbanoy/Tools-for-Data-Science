{
 "cells": [
  {
   "cell_type": "markdown",
   "metadata": {},
   "source": [
    "<center>\n",
    "    <img src=\"https://cf-courses-data.s3.us.cloud-object-storage.appdomain.cloud/IBMDeveloperSkillsNetwork-DS0105EN-SkillsNetwork/labs/Module2/images/SN_web_lightmode.png\" width=\"300\" alt=\"cognitiveclass.ai logo\">\n",
    "</center>\n"
   ]
  },
  {
   "cell_type": "markdown",
   "metadata": {
    "jp-MarkdownHeadingCollapsed": true,
    "tags": []
   },
   "source": [
    "#### Add your code below following the instructions given in the course\n"
   ]
  },
  {
   "cell_type": "markdown",
   "metadata": {
    "tags": []
   },
   "source": [
    "# Data Science Tools and Ecosystem"
   ]
  },
  {
   "cell_type": "markdown",
   "metadata": {},
   "source": [
    "## Introduction: For this workshop I'll put all the knowledge I acquired in this course"
   ]
  },
  {
   "cell_type": "markdown",
   "metadata": {
    "tags": []
   },
   "source": [
    "## Data schience leanguages\n",
    "\n",
    "1. Python\n",
    "2. R\n",
    "3. Julia\n",
    "4. SQL\n",
    "5. Java\n",
    "6. C++\n",
    "7. Scala\n",
    "8. Ruby\n",
    "9. SAS\n",
    "10. MATLAB\n"
   ]
  },
  {
   "cell_type": "markdown",
   "metadata": {
    "tags": []
   },
   "source": [
    "# Libraries for Data science\n",
    "## Python Libraries:\n",
    "\n",
    "1. NumPy: For numerical operations and matrix manipulation.\n",
    "2. pandas: For tabular data manipulation and analysis.\n",
    "3. Matplotlib: For static data visualization in plots.\n",
    "4. Seaborn: A visualization library built on Matplotlib with a simpler syntax.\n",
    "5. Scikit-Learn: For machine learning and predictive modeling.\n",
    "6. TensorFlow and PyTorch: For deep learning model development.\n",
    "7. StatsModels: For statistical analysis in Python.\n",
    "8. SciPy: Offers advanced functionalities for scientific computing.\n",
    "9. NLTK: For natural language processing.\n",
    "10. Beautiful Soup: For HTML and XML document parsing.\n",
    "\n",
    "## R Libraries:\n",
    "\n",
    "1. dplyr: For data manipulation and transformation.\n",
    "2. ggplot2: A powerful library for data visualization.\n",
    "3. caret: For training and evaluating machine learning models.\n",
    "4. tidyr: For data cleaning and tidying.\n",
    "5. lubridate: For working with dates and times.\n",
    "6. tm: For text processing and text mining.\n",
    "7. rpart: For building decision trees.\n",
    "8. randomForest: For creating random forests.\n",
    "9. Shiny: For developing interactive web applications in R.\n",
    "10. ROCR: For model classification evaluation."
   ]
  },
  {
   "cell_type": "markdown",
   "metadata": {
    "jp-MarkdownHeadingCollapsed": true,
    "tags": []
   },
   "source": [
    "### Tools for Data science\n",
    "\n",
    "1. Jupyter Notebook: A widely used interactive environment for data science and analysis.\n",
    "2. RStudio: An Integrated Development Environment (IDE) for R that facilitates programming and data analysis.\n",
    "3. Anaconda: A distribution of Python and R that includes many essential libraries and tools for data science.\n",
    "4. Git: A version control system that helps manage and track changes in code and projects.\n",
    "5. GitHub: A collaborative development platform for hosting and sharing open-source projects.\n",
    "6. Docker: For creating and managing containers that simplify application deployment and development environments.\n",
    "7. SQL: Structured Query Language used for database management.\n",
    "8. Hadoop: A distributed data processing framework for handling large datasets.\n",
    "9. Spark: An in-memory data processing engine that accelerates big data analysis.\n",
    "10. Tableau: A data visualization tool that enables the creation of interactive visualizations and dashboards.\n",
    "11. Power BI: Another data visualization tool by Microsoft that makes it easy to create interactive reports.\n",
    "12. Excel: Widely used for data analysis and spreadsheet manipulation."
   ]
  },
  {
   "cell_type": "markdown",
   "metadata": {
    "tags": []
   },
   "source": [
    "# Examples of arithmetic expressions.\n",
    "1. Example of addition: 2 + 3 = 5\n",
    "2. Example of subtraction: 7 - 4 = 3\n",
    "3. Example of multiplication: 5 * 6 = 30\n",
    "4. Example of division: 10 / 2 = 5\n",
    "5. Example of exponentiation: 2**3 = 8\n",
    "6. Example of square root (using Python's math library): √16 = 4 (Python code: math.sqrt(16)) or 16**(1/2)=4\n",
    "7. Example of parentheses: (3 + 4) * 2 = 14"
   ]
  },
  {
   "cell_type": "code",
   "execution_count": 1,
   "metadata": {
    "tags": []
   },
   "outputs": [
    {
     "data": {
      "text/plain": [
       "17"
      ]
     },
     "execution_count": 1,
     "metadata": {},
     "output_type": "execute_result"
    }
   ],
   "source": [
    "# Example of multiplication\n",
    "(3*4)+5"
   ]
  },
  {
   "cell_type": "code",
   "execution_count": 2,
   "metadata": {
    "tags": []
   },
   "outputs": [
    {
     "data": {
      "text/plain": [
       "3.3333333333333335"
      ]
     },
     "execution_count": 2,
     "metadata": {},
     "output_type": "execute_result"
    }
   ],
   "source": [
    "minutes = 200\n",
    "hours = minutes / 60\n",
    "hours"
   ]
  },
  {
   "cell_type": "markdown",
   "metadata": {
    "tags": []
   },
   "source": [
    "**Objectives:**\n",
    "\n",
    "- Clean and preprocess the dataset.\n",
    "- Perform exploratory data analysis (EDA).\n",
    "- Build a machine learning model for prediction.\n",
    "- Create data visualizations to present findings.\n",
    "- Document the project and provide clear explanations.\n",
    "\n"
   ]
  },
  {
   "cell_type": "markdown",
   "metadata": {},
   "source": [
    "## Author\n",
    "Federico"
   ]
  }
 ],
 "metadata": {
  "kernelspec": {
   "display_name": "Python",
   "language": "python",
   "name": "conda-env-python-py"
  },
  "language_info": {
   "codemirror_mode": {
    "name": "ipython",
    "version": 3
   },
   "file_extension": ".py",
   "mimetype": "text/x-python",
   "name": "python",
   "nbconvert_exporter": "python",
   "pygments_lexer": "ipython3",
   "version": "3.7.12"
  }
 },
 "nbformat": 4,
 "nbformat_minor": 4
}
